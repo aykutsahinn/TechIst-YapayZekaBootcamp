{
 "cells": [
  {
   "cell_type": "markdown",
   "id": "593c4c11-a98b-4521-b6e3-790e9438e8eb",
   "metadata": {},
   "source": [
    "# Metni Seslendirme"
   ]
  },
  {
   "cell_type": "code",
   "execution_count": 1,
   "id": "99987c8b-f420-4897-9ea0-0f26bac66394",
   "metadata": {},
   "outputs": [
    {
     "name": "stdout",
     "output_type": "stream",
     "text": [
      "Collecting gtts\n",
      "  Downloading gTTS-2.5.1-py3-none-any.whl.metadata (4.1 kB)\n",
      "Requirement already satisfied: requests<3,>=2.27 in c:\\users\\aykut\\appdata\\local\\programs\\python\\python312\\lib\\site-packages (from gtts) (2.32.3)\n",
      "Collecting click<8.2,>=7.1 (from gtts)\n",
      "  Downloading click-8.1.7-py3-none-any.whl.metadata (3.0 kB)\n",
      "Requirement already satisfied: colorama in c:\\users\\aykut\\appdata\\local\\programs\\python\\python312\\lib\\site-packages (from click<8.2,>=7.1->gtts) (0.4.6)\n",
      "Requirement already satisfied: charset-normalizer<4,>=2 in c:\\users\\aykut\\appdata\\local\\programs\\python\\python312\\lib\\site-packages (from requests<3,>=2.27->gtts) (3.3.2)\n",
      "Requirement already satisfied: idna<4,>=2.5 in c:\\users\\aykut\\appdata\\local\\programs\\python\\python312\\lib\\site-packages (from requests<3,>=2.27->gtts) (3.7)\n",
      "Requirement already satisfied: urllib3<3,>=1.21.1 in c:\\users\\aykut\\appdata\\local\\programs\\python\\python312\\lib\\site-packages (from requests<3,>=2.27->gtts) (2.2.1)\n",
      "Requirement already satisfied: certifi>=2017.4.17 in c:\\users\\aykut\\appdata\\local\\programs\\python\\python312\\lib\\site-packages (from requests<3,>=2.27->gtts) (2024.6.2)\n",
      "Downloading gTTS-2.5.1-py3-none-any.whl (29 kB)\n",
      "Downloading click-8.1.7-py3-none-any.whl (97 kB)\n",
      "   ---------------------------------------- 0.0/97.9 kB ? eta -:--:--\n",
      "   ------------ --------------------------- 30.7/97.9 kB 660.6 kB/s eta 0:00:01\n",
      "   ------------------------- -------------- 61.4/97.9 kB 656.4 kB/s eta 0:00:01\n",
      "   ------------------------------------- -- 92.2/97.9 kB 871.5 kB/s eta 0:00:01\n",
      "   ------------------------------------- -- 92.2/97.9 kB 871.5 kB/s eta 0:00:01\n",
      "   ---------------------------------------- 97.9/97.9 kB 432.0 kB/s eta 0:00:00\n",
      "Installing collected packages: click, gtts\n",
      "Successfully installed click-8.1.7 gtts-2.5.1\n",
      "Note: you may need to restart the kernel to use updated packages.\n"
     ]
    }
   ],
   "source": [
    "pip install gtts"
   ]
  },
  {
   "cell_type": "code",
   "execution_count": 2,
   "id": "4398bbea-1935-4842-81f2-621b444790ac",
   "metadata": {},
   "outputs": [],
   "source": [
    "from gtts import gTTS"
   ]
  },
  {
   "cell_type": "code",
   "execution_count": 3,
   "id": "26fd7454-b0fc-4c53-bc05-211ae4c0e643",
   "metadata": {},
   "outputs": [],
   "source": [
    "text=\"Merhaba ben sizin yapay zekâ asistanınızım. size nasıl yardımcı olabilirim.\""
   ]
  },
  {
   "cell_type": "code",
   "execution_count": 4,
   "id": "703f7966-b5c7-4dd6-aa36-4a6791bafc86",
   "metadata": {},
   "outputs": [],
   "source": [
    "kayit=gTTS(text=text,lang=\"tr\",slow=False)\n",
    "kayit.save(\"ses.mp3\")"
   ]
  },
  {
   "cell_type": "code",
   "execution_count": 5,
   "id": "846d57b0-ae18-4287-a6c1-ab3ffaaf6b68",
   "metadata": {},
   "outputs": [],
   "source": [
    "kayit=gTTS(text=text,lang=\"hi\",slow=False)\n",
    "kayit.save(\"ses_hi.mp3\")"
   ]
  },
  {
   "cell_type": "code",
   "execution_count": 6,
   "id": "d54a5cba-a03a-4f9b-9739-42542c946380",
   "metadata": {},
   "outputs": [],
   "source": [
    "kayit=gTTS(text=text,lang=\"ru\",slow=False)\n",
    "kayit.save(\"ses_ru.mp3\")"
   ]
  },
  {
   "cell_type": "code",
   "execution_count": null,
   "id": "c0b1e41a-0b9e-4c63-838c-a99711eec808",
   "metadata": {},
   "outputs": [],
   "source": []
  }
 ],
 "metadata": {
  "kernelspec": {
   "display_name": "Python 3 (ipykernel)",
   "language": "python",
   "name": "python3"
  },
  "language_info": {
   "codemirror_mode": {
    "name": "ipython",
    "version": 3
   },
   "file_extension": ".py",
   "mimetype": "text/x-python",
   "name": "python",
   "nbconvert_exporter": "python",
   "pygments_lexer": "ipython3",
   "version": "3.12.3"
  }
 },
 "nbformat": 4,
 "nbformat_minor": 5
}
