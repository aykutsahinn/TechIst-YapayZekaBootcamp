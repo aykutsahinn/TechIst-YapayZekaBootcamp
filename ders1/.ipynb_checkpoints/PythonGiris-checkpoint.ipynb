{
 "cells": [
  {
   "cell_type": "markdown",
   "id": "bf3fa523-1160-4a88-b8ac-5dac25f2e153",
   "metadata": {},
   "source": [
    "## Python Giriş\n",
    "Bu bölümde Python programlama dili ile ilgili temel konulara değinmektedir\n"
   ]
  },
  {
   "cell_type": "markdown",
   "id": "2593794a-fcad-4108-bc75-162362c16e08",
   "metadata": {},
   "source": [
    "## Print Fonksiyonu\n",
    "String İfadeler"
   ]
  },
  {
   "cell_type": "code",
   "execution_count": 1,
   "id": "05cb26c0-9fae-46ba-ba58-050ba2c32dd6",
   "metadata": {},
   "outputs": [
    {
     "name": "stdout",
     "output_type": "stream",
     "text": [
      "Merhaba TechIstanbul\n"
     ]
    }
   ],
   "source": [
    "print('Merhaba TechIstanbul')"
   ]
  },
  {
   "cell_type": "code",
   "execution_count": 2,
   "id": "c85e1633-45e2-4d51-b79f-798e737e57b7",
   "metadata": {},
   "outputs": [
    {
     "data": {
      "text/plain": [
       "'Merhaba TechIstanbul'"
      ]
     },
     "execution_count": 2,
     "metadata": {},
     "output_type": "execute_result"
    }
   ],
   "source": [
    "'Merhaba TechIstanbul'"
   ]
  },
  {
   "cell_type": "code",
   "execution_count": 3,
   "id": "1f92b89c-f768-407e-b990-edf5c1e62bd9",
   "metadata": {},
   "outputs": [
    {
     "data": {
      "text/plain": [
       "\"'Merhaba TechIstanbul'\""
      ]
     },
     "execution_count": 3,
     "metadata": {},
     "output_type": "execute_result"
    }
   ],
   "source": [
    "\"'Merhaba TechIstanbul'\""
   ]
  },
  {
   "cell_type": "code",
   "execution_count": 4,
   "id": "ee459ca6-1f4c-458f-97ee-7a356fc51bb3",
   "metadata": {},
   "outputs": [
    {
     "name": "stdout",
     "output_type": "stream",
     "text": [
      "'Merhaba TechIstanbul'\n"
     ]
    }
   ],
   "source": [
    "print(\"'Merhaba TechIstanbul'\")"
   ]
  },
  {
   "cell_type": "code",
   "execution_count": 9,
   "id": "b7873623-7e2f-443e-95e9-ae664ff9da3d",
   "metadata": {},
   "outputs": [
    {
     "data": {
      "text/plain": [
       "'\\nMerhaba\\nBen \\nAykut\\n'"
      ]
     },
     "execution_count": 9,
     "metadata": {},
     "output_type": "execute_result"
    }
   ],
   "source": [
    "'''\n",
    "Merhaba\n",
    "Ben \n",
    "Aykut\n",
    "'''\n",
    "#Üç tırnak kullanıldığında metni olduğu gibi yazar"
   ]
  },
  {
   "cell_type": "code",
   "execution_count": 7,
   "id": "810ae6e8-ad8b-4377-9bf0-ffad3c2b8bcf",
   "metadata": {},
   "outputs": [
    {
     "name": "stdout",
     "output_type": "stream",
     "text": [
      "1\n",
      "\n",
      "\n",
      "\n",
      "\n",
      "\n",
      "\n",
      "2\n"
     ]
    }
   ],
   "source": [
    "print('1\\n\\n\\n\\n\\n\\n\\n2') #kaçış karakterleri"
   ]
  },
  {
   "cell_type": "code",
   "execution_count": 10,
   "id": "ca48e121-2858-4b57-b7f6-47b4560689f4",
   "metadata": {},
   "outputs": [
    {
     "name": "stdout",
     "output_type": "stream",
     "text": [
      "\n",
      "Merhaba\n",
      "Ben \n",
      "Aykut\n",
      "\n"
     ]
    }
   ],
   "source": [
    "print ('''\n",
    "Merhaba\n",
    "Ben \n",
    "Aykut\n",
    "''')"
   ]
  },
  {
   "cell_type": "markdown",
   "id": "8d3b29f6-aa87-4068-8d3d-7cca3cbade38",
   "metadata": {},
   "source": [
    "### Veri Tipleri"
   ]
  },
  {
   "cell_type": "code",
   "execution_count": 14,
   "id": "45b58f42-839a-497a-b548-c5e6c14214ba",
   "metadata": {},
   "outputs": [
    {
     "data": {
      "text/plain": [
       "str"
      ]
     },
     "execution_count": 14,
     "metadata": {},
     "output_type": "execute_result"
    }
   ],
   "source": [
    "type(\"Aykut\") #karakter dizisi, string, metinsel ifade"
   ]
  },
  {
   "cell_type": "code",
   "execution_count": 15,
   "id": "8179b773-41db-41b6-a301-afc93d18552d",
   "metadata": {},
   "outputs": [
    {
     "data": {
      "text/plain": [
       "float"
      ]
     },
     "execution_count": 15,
     "metadata": {},
     "output_type": "execute_result"
    }
   ],
   "source": [
    "type(2.5) #ondalıklı sayı"
   ]
  },
  {
   "cell_type": "code",
   "execution_count": 16,
   "id": "7f5e5d6b-e307-4d48-9bad-3f99f155c3a9",
   "metadata": {},
   "outputs": [
    {
     "data": {
      "text/plain": [
       "str"
      ]
     },
     "execution_count": 16,
     "metadata": {},
     "output_type": "execute_result"
    }
   ],
   "source": [
    "type(\"2.5\") "
   ]
  },
  {
   "cell_type": "code",
   "execution_count": 17,
   "id": "9d6a596e-aaed-4455-9611-469dc26c01e0",
   "metadata": {},
   "outputs": [
    {
     "data": {
      "text/plain": [
       "int"
      ]
     },
     "execution_count": 17,
     "metadata": {},
     "output_type": "execute_result"
    }
   ],
   "source": [
    "type(2)"
   ]
  },
  {
   "cell_type": "code",
   "execution_count": 18,
   "id": "11fb413a-d45c-4c32-9796-50c1272967ad",
   "metadata": {},
   "outputs": [
    {
     "data": {
      "text/plain": [
       "4.5"
      ]
     },
     "execution_count": 18,
     "metadata": {},
     "output_type": "execute_result"
    }
   ],
   "source": [
    "2+2.5"
   ]
  },
  {
   "cell_type": "code",
   "execution_count": 20,
   "id": "c2338e6c-3f41-429d-9431-08c94ec9e43f",
   "metadata": {},
   "outputs": [
    {
     "data": {
      "text/plain": [
       "'58.5'"
      ]
     },
     "execution_count": 20,
     "metadata": {},
     "output_type": "execute_result"
    }
   ],
   "source": [
    "'5'+'8.5'"
   ]
  },
  {
   "cell_type": "code",
   "execution_count": 22,
   "id": "d982feb9-8b76-44e1-b7e9-5a23d042aeb2",
   "metadata": {},
   "outputs": [
    {
     "data": {
      "text/plain": [
       "'Aykut Sahin 619'"
      ]
     },
     "execution_count": 22,
     "metadata": {},
     "output_type": "execute_result"
    }
   ],
   "source": [
    "'Aykut'+' '+'Sahin'+' '+'619'"
   ]
  },
  {
   "cell_type": "code",
   "execution_count": 24,
   "id": "3e3b29ae-0c5d-458c-a3bc-bf74edfc44ae",
   "metadata": {},
   "outputs": [
    {
     "name": "stdout",
     "output_type": "stream",
     "text": [
      "Aykut\tAykut\tAykut\tAykut\tAykut\tAykut\tAykut\tAykut\tAykut\tAykut\tAykut\tAykut\tAykut\tAykut\tAykut\tAykut\tAykut\tAykut\tAykut\tAykut\tAykut\tAykut\tAykut\tAykut\tAykut\tAykut\tAykut\tAykut\tAykut\tAykut\tAykut\tAykut\tAykut\tAykut\tAykut\tAykut\tAykut\tAykut\tAykut\tAykut\tAykut\tAykut\tAykut\tAykut\tAykut\tAykut\tAykut\tAykut\tAykut\tAykut\tAykut\tAykut\tAykut\tAykut\tAykut\tAykut\tAykut\tAykut\tAykut\tAykut\tAykut\tAykut\tAykut\tAykut\tAykut\tAykut\tAykut\tAykut\tAykut\tAykut\tAykut\tAykut\tAykut\tAykut\tAykut\tAykut\tAykut\tAykut\tAykut\tAykut\tAykut\tAykut\tAykut\tAykut\tAykut\tAykut\tAykut\tAykut\tAykut\tAykut\tAykut\tAykut\tAykut\tAykut\tAykut\tAykut\tAykut\tAykut\tAykut\tAykut\tAykut\tAykut\tAykut\tAykut\tAykut\tAykut\tAykut\tAykut\tAykut\tAykut\tAykut\tAykut\tAykut\tAykut\tAykut\tAykut\tAykut\tAykut\tAykut\tAykut\tAykut\tAykut\tAykut\tAykut\tAykut\tAykut\tAykut\tAykut\t\n"
     ]
    }
   ],
   "source": [
    "print (128*'Aykut\\t')"
   ]
  },
  {
   "cell_type": "code",
   "execution_count": 26,
   "id": "f0bdb0ae-d0c1-49b5-aa20-e298621387fc",
   "metadata": {},
   "outputs": [
    {
     "name": "stdout",
     "output_type": "stream",
     "text": [
      "P\ty\tt\th\to\tn\n"
     ]
    }
   ],
   "source": [
    "print (*'Python', sep='\\t')"
   ]
  },
  {
   "cell_type": "code",
   "execution_count": 25,
   "id": "102f42b9-219c-42ba-9574-341cd9786d8f",
   "metadata": {},
   "outputs": [],
   "source": [
    "#değişken adları vs\n",
    "sayi = 10 #int\n",
    "sayi = 'TechIstanbul' #dtr\n",
    "sayi = 10.5 #float\n",
    "sayi = True #bool\n",
    "sayi = None #none\n",
    "sayi = [1,2,3] #list\n",
    "sayi = (1,2,3) #tuple\n",
    "sayi = {'a':1,'b':2,'c':3} #dict\n",
    "sayi = {1,2,3} #set "
   ]
  },
  {
   "cell_type": "markdown",
   "id": "d526d321-c368-4301-8966-074d2316a67f",
   "metadata": {},
   "source": [
    "## Koşul İfadeleri"
   ]
  },
  {
   "cell_type": "code",
   "execution_count": 27,
   "id": "1319552a-1f8a-40da-b2e7-27fae71f0d31",
   "metadata": {},
   "outputs": [],
   "source": [
    "sayi=10 #atama operatörü"
   ]
  },
  {
   "cell_type": "code",
   "execution_count": 31,
   "id": "7f99a9c5-f6ed-4a60-ac05-e098d9741e8a",
   "metadata": {},
   "outputs": [
    {
     "name": "stdout",
     "output_type": "stream",
     "text": [
      "Geçtin\n"
     ]
    }
   ],
   "source": [
    "vize=40\n",
    "final=60\n",
    "gecme_notu=50\n",
    "ortalama=(vize*.4)+(final*.6)\n",
    "if ortalama>=gecme_notu:print('Geçtin')\n",
    "else:print('Kaldın')"
   ]
  },
  {
   "cell_type": "code",
   "execution_count": 32,
   "id": "4793f5f8-bf1b-4824-bea8-13bbda49c678",
   "metadata": {},
   "outputs": [
    {
     "data": {
      "text/plain": [
       "True"
      ]
     },
     "execution_count": 32,
     "metadata": {},
     "output_type": "execute_result"
    }
   ],
   "source": [
    "True if ortalama>=gecme_notu else False"
   ]
  },
  {
   "cell_type": "code",
   "execution_count": 33,
   "id": "d3b22f81-4d7b-4243-8eaf-8a4b93f93366",
   "metadata": {},
   "outputs": [],
   "source": [
    "sayi=int()"
   ]
  },
  {
   "cell_type": "code",
   "execution_count": 34,
   "id": "0884585a-b583-466d-b5d2-d5f5a516d7f7",
   "metadata": {},
   "outputs": [
    {
     "data": {
      "text/plain": [
       "0"
      ]
     },
     "execution_count": 34,
     "metadata": {},
     "output_type": "execute_result"
    }
   ],
   "source": [
    "sayi"
   ]
  },
  {
   "cell_type": "markdown",
   "id": "9529e4c9-1a58-4b95-a5fd-9925fa294a70",
   "metadata": {},
   "source": [
    "## Karakter Dizileri"
   ]
  },
  {
   "cell_type": "code",
   "execution_count": 35,
   "id": "27efe6b1-9213-4b20-813e-0ac830cfbddd",
   "metadata": {},
   "outputs": [
    {
     "data": {
      "text/plain": [
       "'TechI'"
      ]
     },
     "execution_count": 35,
     "metadata": {},
     "output_type": "execute_result"
    }
   ],
   "source": [
    "ad='TechIstanbul'\n",
    "ad[0:5] #ilk 5 karakter"
   ]
  },
  {
   "cell_type": "code",
   "execution_count": 37,
   "id": "cc401890-ef08-4d27-b145-75d4afa79562",
   "metadata": {},
   "outputs": [
    {
     "data": {
      "text/plain": [
       "'u'"
      ]
     },
     "execution_count": 37,
     "metadata": {},
     "output_type": "execute_result"
    }
   ],
   "source": [
    "ad[-2] #sondan 2. karakter\n"
   ]
  },
  {
   "cell_type": "code",
   "execution_count": 38,
   "id": "133ad78e-501a-4037-85f8-6f999c5b8be0",
   "metadata": {},
   "outputs": [
    {
     "data": {
      "text/plain": [
       "'lubnatsIhceT'"
      ]
     },
     "execution_count": 38,
     "metadata": {},
     "output_type": "execute_result"
    }
   ],
   "source": [
    "ad[::-1] #metni tersine çevir"
   ]
  },
  {
   "cell_type": "code",
   "execution_count": 39,
   "id": "4466c41e-99cc-4249-a711-87995088e203",
   "metadata": {},
   "outputs": [
    {
     "data": {
      "text/plain": [
       "'AYKUT'"
      ]
     },
     "execution_count": 39,
     "metadata": {},
     "output_type": "execute_result"
    }
   ],
   "source": [
    "\"Aykut\".upper() #büyük harf"
   ]
  },
  {
   "cell_type": "code",
   "execution_count": 40,
   "id": "111fe4e8-be45-4ba6-9405-6ca014111f27",
   "metadata": {},
   "outputs": [
    {
     "data": {
      "text/plain": [
       "'aykut'"
      ]
     },
     "execution_count": 40,
     "metadata": {},
     "output_type": "execute_result"
    }
   ],
   "source": [
    "\"Aykut\".lower() #küçük harf"
   ]
  },
  {
   "cell_type": "code",
   "execution_count": 41,
   "id": "0ef542af-c42b-4ce5-85c5-d32807e69d9c",
   "metadata": {},
   "outputs": [
    {
     "data": {
      "text/plain": [
       "'Aykut sahin'"
      ]
     },
     "execution_count": 41,
     "metadata": {},
     "output_type": "execute_result"
    }
   ],
   "source": [
    "\"aykut sahin\".capitalize() #ilk harfi büyük yapar"
   ]
  },
  {
   "cell_type": "code",
   "execution_count": 43,
   "id": "5f0f785e-d569-4b4c-a461-2637f6875382",
   "metadata": {},
   "outputs": [
    {
     "data": {
      "text/plain": [
       "['ocak', 'şubat', 'mart']"
      ]
     },
     "execution_count": 43,
     "metadata": {},
     "output_type": "execute_result"
    }
   ],
   "source": [
    "\"ocak-şubat-mart\".split('-')"
   ]
  },
  {
   "cell_type": "markdown",
   "id": "c6f81464-bd5d-4fb2-99a4-daa3f57750ef",
   "metadata": {},
   "source": [
    "## Döngüler"
   ]
  },
  {
   "cell_type": "code",
   "execution_count": 44,
   "id": "41a710ce-ae93-496c-abe5-eb076178fa43",
   "metadata": {},
   "outputs": [
    {
     "name": "stdout",
     "output_type": "stream",
     "text": [
      "0\n",
      "1\n",
      "2\n",
      "3\n",
      "4\n",
      "5\n",
      "6\n",
      "7\n",
      "8\n",
      "9\n"
     ]
    }
   ],
   "source": [
    "#while\n",
    "i=0\n",
    "while i<10:\n",
    "    print(i)\n",
    "    i+=1"
   ]
  },
  {
   "cell_type": "code",
   "execution_count": 45,
   "id": "136fbca3-bc94-4e42-a258-ba19da958a5c",
   "metadata": {},
   "outputs": [
    {
     "name": "stdout",
     "output_type": "stream",
     "text": [
      "0\n",
      "1\n",
      "2\n",
      "3\n",
      "4\n",
      "5\n",
      "6\n",
      "7\n",
      "8\n",
      "9\n"
     ]
    }
   ],
   "source": [
    "#for\n",
    "for i in range(10):\n",
    "    print(i)"
   ]
  },
  {
   "cell_type": "code",
   "execution_count": 46,
   "id": "ae9dca53-7a1f-4a87-a950-9f49e1824776",
   "metadata": {},
   "outputs": [],
   "source": [
    "sayi_listesi=[1,2,3,4,5,6,7,8,9]"
   ]
  },
  {
   "cell_type": "code",
   "execution_count": 47,
   "id": "860e98a1-35f6-43c4-8f8f-3187e15d6afb",
   "metadata": {},
   "outputs": [
    {
     "name": "stdout",
     "output_type": "stream",
     "text": [
      "1\n",
      "2\n",
      "3\n",
      "4\n",
      "5\n"
     ]
    }
   ],
   "source": [
    "for sayi in sayi_listesi:\n",
    "    print(sayi)\n",
    "    if sayi==5:\n",
    "        break"
   ]
  },
  {
   "cell_type": "markdown",
   "id": "f9112f5c-f2c4-4d55-843b-82494edd4a86",
   "metadata": {},
   "source": [
    "## List Comprehensions"
   ]
  },
  {
   "cell_type": "code",
   "execution_count": 49,
   "id": "0308018b-dea9-4cfc-9954-02fd15d6dce2",
   "metadata": {},
   "outputs": [
    {
     "data": {
      "text/plain": [
       "[25]"
      ]
     },
     "execution_count": 49,
     "metadata": {},
     "output_type": "execute_result"
    }
   ],
   "source": [
    "[sayi**2 for sayi in sayi_listesi if sayi%5==0]"
   ]
  },
  {
   "cell_type": "code",
   "execution_count": 50,
   "id": "e7c61dba-c24d-4680-ac0f-d6e52d2cea0b",
   "metadata": {},
   "outputs": [
    {
     "data": {
      "text/plain": [
       "25"
      ]
     },
     "execution_count": 50,
     "metadata": {},
     "output_type": "execute_result"
    }
   ],
   "source": [
    "#lambda tek satırlık fonksiyon\n",
    "(lambda x:x**2)(5)"
   ]
  },
  {
   "cell_type": "markdown",
   "id": "85c3b268-b63a-4221-a102-c69ac80bb7a0",
   "metadata": {},
   "source": [
    "## Fonksiyon Tanımlama"
   ]
  },
  {
   "cell_type": "code",
   "execution_count": 51,
   "id": "70eccb1e-e355-4d75-bd62-f5b729dc8c05",
   "metadata": {},
   "outputs": [],
   "source": [
    "def kare_al(x):\n",
    "    return x**2"
   ]
  },
  {
   "cell_type": "code",
   "execution_count": 52,
   "id": "15a94b83-ec02-4797-9c44-a726de3ad3f8",
   "metadata": {},
   "outputs": [
    {
     "data": {
      "text/plain": [
       "64"
      ]
     },
     "execution_count": 52,
     "metadata": {},
     "output_type": "execute_result"
    }
   ],
   "source": [
    "kare_al(8)"
   ]
  }
 ],
 "metadata": {
  "kernelspec": {
   "display_name": "Python 3 (ipykernel)",
   "language": "python",
   "name": "python3"
  },
  "language_info": {
   "codemirror_mode": {
    "name": "ipython",
    "version": 3
   },
   "file_extension": ".py",
   "mimetype": "text/x-python",
   "name": "python",
   "nbconvert_exporter": "python",
   "pygments_lexer": "ipython3",
   "version": "3.12.3"
  }
 },
 "nbformat": 4,
 "nbformat_minor": 5
}
